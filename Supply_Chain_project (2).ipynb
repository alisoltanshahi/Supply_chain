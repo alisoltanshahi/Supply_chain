{
 "cells": [
  {
   "cell_type": "code",
   "execution_count": null,
   "metadata": {
    "id": "spObobKL8dYC"
   },
   "outputs": [],
   "source": [
    "!pip install -q kaggle"
   ]
  },
  {
   "cell_type": "code",
   "execution_count": null,
   "metadata": {
    "id": "wRpolvys8hC6"
   },
   "outputs": [],
   "source": [
    "from google.colab import files\n"
   ]
  },
  {
   "cell_type": "code",
   "execution_count": null,
   "metadata": {
    "colab": {
     "base_uri": "https://localhost:8080/",
     "height": 90
    },
    "id": "K0CFlXa69YMz",
    "outputId": "22054f42-c4d7-4d71-9faf-7dd27add567a"
   },
   "outputs": [
    {
     "data": {
      "text/html": [
       "\n",
       "     <input type=\"file\" id=\"files-f823bdc4-999e-4115-883f-25e2fbf4be88\" name=\"files[]\" multiple disabled\n",
       "        style=\"border:none\" />\n",
       "     <output id=\"result-f823bdc4-999e-4115-883f-25e2fbf4be88\">\n",
       "      Upload widget is only available when the cell has been executed in the\n",
       "      current browser session. Please rerun this cell to enable.\n",
       "      </output>\n",
       "      <script>// Copyright 2017 Google LLC\n",
       "//\n",
       "// Licensed under the Apache License, Version 2.0 (the \"License\");\n",
       "// you may not use this file except in compliance with the License.\n",
       "// You may obtain a copy of the License at\n",
       "//\n",
       "//      http://www.apache.org/licenses/LICENSE-2.0\n",
       "//\n",
       "// Unless required by applicable law or agreed to in writing, software\n",
       "// distributed under the License is distributed on an \"AS IS\" BASIS,\n",
       "// WITHOUT WARRANTIES OR CONDITIONS OF ANY KIND, either express or implied.\n",
       "// See the License for the specific language governing permissions and\n",
       "// limitations under the License.\n",
       "\n",
       "/**\n",
       " * @fileoverview Helpers for google.colab Python module.\n",
       " */\n",
       "(function(scope) {\n",
       "function span(text, styleAttributes = {}) {\n",
       "  const element = document.createElement('span');\n",
       "  element.textContent = text;\n",
       "  for (const key of Object.keys(styleAttributes)) {\n",
       "    element.style[key] = styleAttributes[key];\n",
       "  }\n",
       "  return element;\n",
       "}\n",
       "\n",
       "// Max number of bytes which will be uploaded at a time.\n",
       "const MAX_PAYLOAD_SIZE = 100 * 1024;\n",
       "\n",
       "function _uploadFiles(inputId, outputId) {\n",
       "  const steps = uploadFilesStep(inputId, outputId);\n",
       "  const outputElement = document.getElementById(outputId);\n",
       "  // Cache steps on the outputElement to make it available for the next call\n",
       "  // to uploadFilesContinue from Python.\n",
       "  outputElement.steps = steps;\n",
       "\n",
       "  return _uploadFilesContinue(outputId);\n",
       "}\n",
       "\n",
       "// This is roughly an async generator (not supported in the browser yet),\n",
       "// where there are multiple asynchronous steps and the Python side is going\n",
       "// to poll for completion of each step.\n",
       "// This uses a Promise to block the python side on completion of each step,\n",
       "// then passes the result of the previous step as the input to the next step.\n",
       "function _uploadFilesContinue(outputId) {\n",
       "  const outputElement = document.getElementById(outputId);\n",
       "  const steps = outputElement.steps;\n",
       "\n",
       "  const next = steps.next(outputElement.lastPromiseValue);\n",
       "  return Promise.resolve(next.value.promise).then((value) => {\n",
       "    // Cache the last promise value to make it available to the next\n",
       "    // step of the generator.\n",
       "    outputElement.lastPromiseValue = value;\n",
       "    return next.value.response;\n",
       "  });\n",
       "}\n",
       "\n",
       "/**\n",
       " * Generator function which is called between each async step of the upload\n",
       " * process.\n",
       " * @param {string} inputId Element ID of the input file picker element.\n",
       " * @param {string} outputId Element ID of the output display.\n",
       " * @return {!Iterable<!Object>} Iterable of next steps.\n",
       " */\n",
       "function* uploadFilesStep(inputId, outputId) {\n",
       "  const inputElement = document.getElementById(inputId);\n",
       "  inputElement.disabled = false;\n",
       "\n",
       "  const outputElement = document.getElementById(outputId);\n",
       "  outputElement.innerHTML = '';\n",
       "\n",
       "  const pickedPromise = new Promise((resolve) => {\n",
       "    inputElement.addEventListener('change', (e) => {\n",
       "      resolve(e.target.files);\n",
       "    });\n",
       "  });\n",
       "\n",
       "  const cancel = document.createElement('button');\n",
       "  inputElement.parentElement.appendChild(cancel);\n",
       "  cancel.textContent = 'Cancel upload';\n",
       "  const cancelPromise = new Promise((resolve) => {\n",
       "    cancel.onclick = () => {\n",
       "      resolve(null);\n",
       "    };\n",
       "  });\n",
       "\n",
       "  // Wait for the user to pick the files.\n",
       "  const files = yield {\n",
       "    promise: Promise.race([pickedPromise, cancelPromise]),\n",
       "    response: {\n",
       "      action: 'starting',\n",
       "    }\n",
       "  };\n",
       "\n",
       "  cancel.remove();\n",
       "\n",
       "  // Disable the input element since further picks are not allowed.\n",
       "  inputElement.disabled = true;\n",
       "\n",
       "  if (!files) {\n",
       "    return {\n",
       "      response: {\n",
       "        action: 'complete',\n",
       "      }\n",
       "    };\n",
       "  }\n",
       "\n",
       "  for (const file of files) {\n",
       "    const li = document.createElement('li');\n",
       "    li.append(span(file.name, {fontWeight: 'bold'}));\n",
       "    li.append(span(\n",
       "        `(${file.type || 'n/a'}) - ${file.size} bytes, ` +\n",
       "        `last modified: ${\n",
       "            file.lastModifiedDate ? file.lastModifiedDate.toLocaleDateString() :\n",
       "                                    'n/a'} - `));\n",
       "    const percent = span('0% done');\n",
       "    li.appendChild(percent);\n",
       "\n",
       "    outputElement.appendChild(li);\n",
       "\n",
       "    const fileDataPromise = new Promise((resolve) => {\n",
       "      const reader = new FileReader();\n",
       "      reader.onload = (e) => {\n",
       "        resolve(e.target.result);\n",
       "      };\n",
       "      reader.readAsArrayBuffer(file);\n",
       "    });\n",
       "    // Wait for the data to be ready.\n",
       "    let fileData = yield {\n",
       "      promise: fileDataPromise,\n",
       "      response: {\n",
       "        action: 'continue',\n",
       "      }\n",
       "    };\n",
       "\n",
       "    // Use a chunked sending to avoid message size limits. See b/62115660.\n",
       "    let position = 0;\n",
       "    do {\n",
       "      const length = Math.min(fileData.byteLength - position, MAX_PAYLOAD_SIZE);\n",
       "      const chunk = new Uint8Array(fileData, position, length);\n",
       "      position += length;\n",
       "\n",
       "      const base64 = btoa(String.fromCharCode.apply(null, chunk));\n",
       "      yield {\n",
       "        response: {\n",
       "          action: 'append',\n",
       "          file: file.name,\n",
       "          data: base64,\n",
       "        },\n",
       "      };\n",
       "\n",
       "      let percentDone = fileData.byteLength === 0 ?\n",
       "          100 :\n",
       "          Math.round((position / fileData.byteLength) * 100);\n",
       "      percent.textContent = `${percentDone}% done`;\n",
       "\n",
       "    } while (position < fileData.byteLength);\n",
       "  }\n",
       "\n",
       "  // All done.\n",
       "  yield {\n",
       "    response: {\n",
       "      action: 'complete',\n",
       "    }\n",
       "  };\n",
       "}\n",
       "\n",
       "scope.google = scope.google || {};\n",
       "scope.google.colab = scope.google.colab || {};\n",
       "scope.google.colab._files = {\n",
       "  _uploadFiles,\n",
       "  _uploadFilesContinue,\n",
       "};\n",
       "})(self);\n",
       "</script> "
      ],
      "text/plain": [
       "<IPython.core.display.HTML object>"
      ]
     },
     "metadata": {},
     "output_type": "display_data"
    },
    {
     "name": "stdout",
     "output_type": "stream",
     "text": [
      "Saving kaggle.json to kaggle.json\n"
     ]
    },
    {
     "data": {
      "text/plain": [
       "{'kaggle.json': b'{\"username\":\"alisultanshahi\",\"key\":\"7a07f52a3824487b63a5eb25fa1a8bb5\"}'}"
      ]
     },
     "execution_count": 3,
     "metadata": {},
     "output_type": "execute_result"
    }
   ],
   "source": [
    "files.upload()"
   ]
  },
  {
   "cell_type": "code",
   "execution_count": null,
   "metadata": {
    "id": "ZEHKmYCYBGyJ"
   },
   "outputs": [],
   "source": [
    "import pandas as pd\n",
    "import numpy as np"
   ]
  },
  {
   "cell_type": "code",
   "execution_count": null,
   "metadata": {
    "colab": {
     "base_uri": "https://localhost:8080/"
    },
    "id": "eRNBnGo59dYf",
    "outputId": "ed2d7a50-fc3c-4a65-a5f8-eb350f254b18"
   },
   "outputs": [
    {
     "name": "stdout",
     "output_type": "stream",
     "text": [
      "Dataset URL: https://www.kaggle.com/datasets/shashwatwork/dataco-smart-supply-chain-for-big-data-analysis\n",
      "License(s): CC0-1.0\n",
      "Downloading dataco-smart-supply-chain-for-big-data-analysis.zip to /content\n",
      " 82% 21.0M/25.7M [00:00<00:00, 68.5MB/s]\n",
      "100% 25.7M/25.7M [00:00<00:00, 58.2MB/s]\n"
     ]
    }
   ],
   "source": [
    "# Download the dataset from Kaggle\n",
    "!kaggle datasets download -d shashwatwork/dataco-smart-supply-chain-for-big-data-analysis"
   ]
  },
  {
   "cell_type": "code",
   "execution_count": null,
   "metadata": {
    "colab": {
     "base_uri": "https://localhost:8080/"
    },
    "id": "XMXEoKsT9d62",
    "outputId": "67d3860c-ac29-4724-e21d-0f8e42091831"
   },
   "outputs": [
    {
     "name": "stdout",
     "output_type": "stream",
     "text": [
      "['DescriptionDataCoSupplyChain.csv', 'tokenized_access_logs.csv', 'DataCoSupplyChainDataset.csv']\n"
     ]
    }
   ],
   "source": [
    "import zipfile\n",
    "import os\n",
    "# Now, we have to unzip it\n",
    "with zipfile.ZipFile('dataco-smart-supply-chain-for-big-data-analysis.zip', 'r') as zip_ref:\n",
    "    zip_ref.extractall('Supply_chain_data')\n",
    "print(os.listdir('Supply_chain_data'))"
   ]
  },
  {
   "cell_type": "code",
   "execution_count": null,
   "metadata": {
    "colab": {
     "base_uri": "https://localhost:8080/",
     "height": 377
    },
    "id": "GQkZemPr9eH5",
    "outputId": "7cd22653-b6bd-4ae1-9cb3-fac477382d78"
   },
   "outputs": [
    {
     "data": {
      "application/vnd.google.colaboratory.intrinsic+json": {
       "type": "dataframe",
       "variable_name": "data"
      },
      "text/html": [
       "\n",
       "  <div id=\"df-b49aa629-7eb2-46f1-bc9b-0b3a6e674556\" class=\"colab-df-container\">\n",
       "    <div>\n",
       "<style scoped>\n",
       "    .dataframe tbody tr th:only-of-type {\n",
       "        vertical-align: middle;\n",
       "    }\n",
       "\n",
       "    .dataframe tbody tr th {\n",
       "        vertical-align: top;\n",
       "    }\n",
       "\n",
       "    .dataframe thead th {\n",
       "        text-align: right;\n",
       "    }\n",
       "</style>\n",
       "<table border=\"1\" class=\"dataframe\">\n",
       "  <thead>\n",
       "    <tr style=\"text-align: right;\">\n",
       "      <th></th>\n",
       "      <th>Type</th>\n",
       "      <th>Days for shipping (real)</th>\n",
       "      <th>Days for shipment (scheduled)</th>\n",
       "      <th>Benefit per order</th>\n",
       "      <th>Sales per customer</th>\n",
       "      <th>Delivery Status</th>\n",
       "      <th>Late_delivery_risk</th>\n",
       "      <th>Category Id</th>\n",
       "      <th>Category Name</th>\n",
       "      <th>Customer City</th>\n",
       "      <th>...</th>\n",
       "      <th>Order Zipcode</th>\n",
       "      <th>Product Card Id</th>\n",
       "      <th>Product Category Id</th>\n",
       "      <th>Product Description</th>\n",
       "      <th>Product Image</th>\n",
       "      <th>Product Name</th>\n",
       "      <th>Product Price</th>\n",
       "      <th>Product Status</th>\n",
       "      <th>shipping date (DateOrders)</th>\n",
       "      <th>Shipping Mode</th>\n",
       "    </tr>\n",
       "  </thead>\n",
       "  <tbody>\n",
       "    <tr>\n",
       "      <th>0</th>\n",
       "      <td>DEBIT</td>\n",
       "      <td>3</td>\n",
       "      <td>4</td>\n",
       "      <td>91.250000</td>\n",
       "      <td>314.640015</td>\n",
       "      <td>Advance shipping</td>\n",
       "      <td>0</td>\n",
       "      <td>73</td>\n",
       "      <td>Sporting Goods</td>\n",
       "      <td>Caguas</td>\n",
       "      <td>...</td>\n",
       "      <td>NaN</td>\n",
       "      <td>1360</td>\n",
       "      <td>73</td>\n",
       "      <td>NaN</td>\n",
       "      <td>http://images.acmesports.sports/Smart+watch</td>\n",
       "      <td>Smart watch</td>\n",
       "      <td>327.75</td>\n",
       "      <td>0</td>\n",
       "      <td>2/3/2018 22:56</td>\n",
       "      <td>Standard Class</td>\n",
       "    </tr>\n",
       "    <tr>\n",
       "      <th>1</th>\n",
       "      <td>TRANSFER</td>\n",
       "      <td>5</td>\n",
       "      <td>4</td>\n",
       "      <td>-249.089996</td>\n",
       "      <td>311.359985</td>\n",
       "      <td>Late delivery</td>\n",
       "      <td>1</td>\n",
       "      <td>73</td>\n",
       "      <td>Sporting Goods</td>\n",
       "      <td>Caguas</td>\n",
       "      <td>...</td>\n",
       "      <td>NaN</td>\n",
       "      <td>1360</td>\n",
       "      <td>73</td>\n",
       "      <td>NaN</td>\n",
       "      <td>http://images.acmesports.sports/Smart+watch</td>\n",
       "      <td>Smart watch</td>\n",
       "      <td>327.75</td>\n",
       "      <td>0</td>\n",
       "      <td>1/18/2018 12:27</td>\n",
       "      <td>Standard Class</td>\n",
       "    </tr>\n",
       "    <tr>\n",
       "      <th>2</th>\n",
       "      <td>CASH</td>\n",
       "      <td>4</td>\n",
       "      <td>4</td>\n",
       "      <td>-247.779999</td>\n",
       "      <td>309.720001</td>\n",
       "      <td>Shipping on time</td>\n",
       "      <td>0</td>\n",
       "      <td>73</td>\n",
       "      <td>Sporting Goods</td>\n",
       "      <td>San Jose</td>\n",
       "      <td>...</td>\n",
       "      <td>NaN</td>\n",
       "      <td>1360</td>\n",
       "      <td>73</td>\n",
       "      <td>NaN</td>\n",
       "      <td>http://images.acmesports.sports/Smart+watch</td>\n",
       "      <td>Smart watch</td>\n",
       "      <td>327.75</td>\n",
       "      <td>0</td>\n",
       "      <td>1/17/2018 12:06</td>\n",
       "      <td>Standard Class</td>\n",
       "    </tr>\n",
       "    <tr>\n",
       "      <th>3</th>\n",
       "      <td>DEBIT</td>\n",
       "      <td>3</td>\n",
       "      <td>4</td>\n",
       "      <td>22.860001</td>\n",
       "      <td>304.809998</td>\n",
       "      <td>Advance shipping</td>\n",
       "      <td>0</td>\n",
       "      <td>73</td>\n",
       "      <td>Sporting Goods</td>\n",
       "      <td>Los Angeles</td>\n",
       "      <td>...</td>\n",
       "      <td>NaN</td>\n",
       "      <td>1360</td>\n",
       "      <td>73</td>\n",
       "      <td>NaN</td>\n",
       "      <td>http://images.acmesports.sports/Smart+watch</td>\n",
       "      <td>Smart watch</td>\n",
       "      <td>327.75</td>\n",
       "      <td>0</td>\n",
       "      <td>1/16/2018 11:45</td>\n",
       "      <td>Standard Class</td>\n",
       "    </tr>\n",
       "    <tr>\n",
       "      <th>4</th>\n",
       "      <td>PAYMENT</td>\n",
       "      <td>2</td>\n",
       "      <td>4</td>\n",
       "      <td>134.210007</td>\n",
       "      <td>298.250000</td>\n",
       "      <td>Advance shipping</td>\n",
       "      <td>0</td>\n",
       "      <td>73</td>\n",
       "      <td>Sporting Goods</td>\n",
       "      <td>Caguas</td>\n",
       "      <td>...</td>\n",
       "      <td>NaN</td>\n",
       "      <td>1360</td>\n",
       "      <td>73</td>\n",
       "      <td>NaN</td>\n",
       "      <td>http://images.acmesports.sports/Smart+watch</td>\n",
       "      <td>Smart watch</td>\n",
       "      <td>327.75</td>\n",
       "      <td>0</td>\n",
       "      <td>1/15/2018 11:24</td>\n",
       "      <td>Standard Class</td>\n",
       "    </tr>\n",
       "  </tbody>\n",
       "</table>\n",
       "<p>5 rows × 53 columns</p>\n",
       "</div>\n",
       "    <div class=\"colab-df-buttons\">\n",
       "\n",
       "  <div class=\"colab-df-container\">\n",
       "    <button class=\"colab-df-convert\" onclick=\"convertToInteractive('df-b49aa629-7eb2-46f1-bc9b-0b3a6e674556')\"\n",
       "            title=\"Convert this dataframe to an interactive table.\"\n",
       "            style=\"display:none;\">\n",
       "\n",
       "  <svg xmlns=\"http://www.w3.org/2000/svg\" height=\"24px\" viewBox=\"0 -960 960 960\">\n",
       "    <path d=\"M120-120v-720h720v720H120Zm60-500h600v-160H180v160Zm220 220h160v-160H400v160Zm0 220h160v-160H400v160ZM180-400h160v-160H180v160Zm440 0h160v-160H620v160ZM180-180h160v-160H180v160Zm440 0h160v-160H620v160Z\"/>\n",
       "  </svg>\n",
       "    </button>\n",
       "\n",
       "  <style>\n",
       "    .colab-df-container {\n",
       "      display:flex;\n",
       "      gap: 12px;\n",
       "    }\n",
       "\n",
       "    .colab-df-convert {\n",
       "      background-color: #E8F0FE;\n",
       "      border: none;\n",
       "      border-radius: 50%;\n",
       "      cursor: pointer;\n",
       "      display: none;\n",
       "      fill: #1967D2;\n",
       "      height: 32px;\n",
       "      padding: 0 0 0 0;\n",
       "      width: 32px;\n",
       "    }\n",
       "\n",
       "    .colab-df-convert:hover {\n",
       "      background-color: #E2EBFA;\n",
       "      box-shadow: 0px 1px 2px rgba(60, 64, 67, 0.3), 0px 1px 3px 1px rgba(60, 64, 67, 0.15);\n",
       "      fill: #174EA6;\n",
       "    }\n",
       "\n",
       "    .colab-df-buttons div {\n",
       "      margin-bottom: 4px;\n",
       "    }\n",
       "\n",
       "    [theme=dark] .colab-df-convert {\n",
       "      background-color: #3B4455;\n",
       "      fill: #D2E3FC;\n",
       "    }\n",
       "\n",
       "    [theme=dark] .colab-df-convert:hover {\n",
       "      background-color: #434B5C;\n",
       "      box-shadow: 0px 1px 3px 1px rgba(0, 0, 0, 0.15);\n",
       "      filter: drop-shadow(0px 1px 2px rgba(0, 0, 0, 0.3));\n",
       "      fill: #FFFFFF;\n",
       "    }\n",
       "  </style>\n",
       "\n",
       "    <script>\n",
       "      const buttonEl =\n",
       "        document.querySelector('#df-b49aa629-7eb2-46f1-bc9b-0b3a6e674556 button.colab-df-convert');\n",
       "      buttonEl.style.display =\n",
       "        google.colab.kernel.accessAllowed ? 'block' : 'none';\n",
       "\n",
       "      async function convertToInteractive(key) {\n",
       "        const element = document.querySelector('#df-b49aa629-7eb2-46f1-bc9b-0b3a6e674556');\n",
       "        const dataTable =\n",
       "          await google.colab.kernel.invokeFunction('convertToInteractive',\n",
       "                                                    [key], {});\n",
       "        if (!dataTable) return;\n",
       "\n",
       "        const docLinkHtml = 'Like what you see? Visit the ' +\n",
       "          '<a target=\"_blank\" href=https://colab.research.google.com/notebooks/data_table.ipynb>data table notebook</a>'\n",
       "          + ' to learn more about interactive tables.';\n",
       "        element.innerHTML = '';\n",
       "        dataTable['output_type'] = 'display_data';\n",
       "        await google.colab.output.renderOutput(dataTable, element);\n",
       "        const docLink = document.createElement('div');\n",
       "        docLink.innerHTML = docLinkHtml;\n",
       "        element.appendChild(docLink);\n",
       "      }\n",
       "    </script>\n",
       "  </div>\n",
       "\n",
       "\n",
       "<div id=\"df-217ec6e7-9a14-4e04-9063-bf1d8a5e1201\">\n",
       "  <button class=\"colab-df-quickchart\" onclick=\"quickchart('df-217ec6e7-9a14-4e04-9063-bf1d8a5e1201')\"\n",
       "            title=\"Suggest charts\"\n",
       "            style=\"display:none;\">\n",
       "\n",
       "<svg xmlns=\"http://www.w3.org/2000/svg\" height=\"24px\"viewBox=\"0 0 24 24\"\n",
       "     width=\"24px\">\n",
       "    <g>\n",
       "        <path d=\"M19 3H5c-1.1 0-2 .9-2 2v14c0 1.1.9 2 2 2h14c1.1 0 2-.9 2-2V5c0-1.1-.9-2-2-2zM9 17H7v-7h2v7zm4 0h-2V7h2v10zm4 0h-2v-4h2v4z\"/>\n",
       "    </g>\n",
       "</svg>\n",
       "  </button>\n",
       "\n",
       "<style>\n",
       "  .colab-df-quickchart {\n",
       "      --bg-color: #E8F0FE;\n",
       "      --fill-color: #1967D2;\n",
       "      --hover-bg-color: #E2EBFA;\n",
       "      --hover-fill-color: #174EA6;\n",
       "      --disabled-fill-color: #AAA;\n",
       "      --disabled-bg-color: #DDD;\n",
       "  }\n",
       "\n",
       "  [theme=dark] .colab-df-quickchart {\n",
       "      --bg-color: #3B4455;\n",
       "      --fill-color: #D2E3FC;\n",
       "      --hover-bg-color: #434B5C;\n",
       "      --hover-fill-color: #FFFFFF;\n",
       "      --disabled-bg-color: #3B4455;\n",
       "      --disabled-fill-color: #666;\n",
       "  }\n",
       "\n",
       "  .colab-df-quickchart {\n",
       "    background-color: var(--bg-color);\n",
       "    border: none;\n",
       "    border-radius: 50%;\n",
       "    cursor: pointer;\n",
       "    display: none;\n",
       "    fill: var(--fill-color);\n",
       "    height: 32px;\n",
       "    padding: 0;\n",
       "    width: 32px;\n",
       "  }\n",
       "\n",
       "  .colab-df-quickchart:hover {\n",
       "    background-color: var(--hover-bg-color);\n",
       "    box-shadow: 0 1px 2px rgba(60, 64, 67, 0.3), 0 1px 3px 1px rgba(60, 64, 67, 0.15);\n",
       "    fill: var(--button-hover-fill-color);\n",
       "  }\n",
       "\n",
       "  .colab-df-quickchart-complete:disabled,\n",
       "  .colab-df-quickchart-complete:disabled:hover {\n",
       "    background-color: var(--disabled-bg-color);\n",
       "    fill: var(--disabled-fill-color);\n",
       "    box-shadow: none;\n",
       "  }\n",
       "\n",
       "  .colab-df-spinner {\n",
       "    border: 2px solid var(--fill-color);\n",
       "    border-color: transparent;\n",
       "    border-bottom-color: var(--fill-color);\n",
       "    animation:\n",
       "      spin 1s steps(1) infinite;\n",
       "  }\n",
       "\n",
       "  @keyframes spin {\n",
       "    0% {\n",
       "      border-color: transparent;\n",
       "      border-bottom-color: var(--fill-color);\n",
       "      border-left-color: var(--fill-color);\n",
       "    }\n",
       "    20% {\n",
       "      border-color: transparent;\n",
       "      border-left-color: var(--fill-color);\n",
       "      border-top-color: var(--fill-color);\n",
       "    }\n",
       "    30% {\n",
       "      border-color: transparent;\n",
       "      border-left-color: var(--fill-color);\n",
       "      border-top-color: var(--fill-color);\n",
       "      border-right-color: var(--fill-color);\n",
       "    }\n",
       "    40% {\n",
       "      border-color: transparent;\n",
       "      border-right-color: var(--fill-color);\n",
       "      border-top-color: var(--fill-color);\n",
       "    }\n",
       "    60% {\n",
       "      border-color: transparent;\n",
       "      border-right-color: var(--fill-color);\n",
       "    }\n",
       "    80% {\n",
       "      border-color: transparent;\n",
       "      border-right-color: var(--fill-color);\n",
       "      border-bottom-color: var(--fill-color);\n",
       "    }\n",
       "    90% {\n",
       "      border-color: transparent;\n",
       "      border-bottom-color: var(--fill-color);\n",
       "    }\n",
       "  }\n",
       "</style>\n",
       "\n",
       "  <script>\n",
       "    async function quickchart(key) {\n",
       "      const quickchartButtonEl =\n",
       "        document.querySelector('#' + key + ' button');\n",
       "      quickchartButtonEl.disabled = true;  // To prevent multiple clicks.\n",
       "      quickchartButtonEl.classList.add('colab-df-spinner');\n",
       "      try {\n",
       "        const charts = await google.colab.kernel.invokeFunction(\n",
       "            'suggestCharts', [key], {});\n",
       "      } catch (error) {\n",
       "        console.error('Error during call to suggestCharts:', error);\n",
       "      }\n",
       "      quickchartButtonEl.classList.remove('colab-df-spinner');\n",
       "      quickchartButtonEl.classList.add('colab-df-quickchart-complete');\n",
       "    }\n",
       "    (() => {\n",
       "      let quickchartButtonEl =\n",
       "        document.querySelector('#df-217ec6e7-9a14-4e04-9063-bf1d8a5e1201 button');\n",
       "      quickchartButtonEl.style.display =\n",
       "        google.colab.kernel.accessAllowed ? 'block' : 'none';\n",
       "    })();\n",
       "  </script>\n",
       "</div>\n",
       "\n",
       "    </div>\n",
       "  </div>\n"
      ],
      "text/plain": [
       "       Type  Days for shipping (real)  Days for shipment (scheduled)  \\\n",
       "0     DEBIT                         3                              4   \n",
       "1  TRANSFER                         5                              4   \n",
       "2      CASH                         4                              4   \n",
       "3     DEBIT                         3                              4   \n",
       "4   PAYMENT                         2                              4   \n",
       "\n",
       "   Benefit per order  Sales per customer   Delivery Status  \\\n",
       "0          91.250000          314.640015  Advance shipping   \n",
       "1        -249.089996          311.359985     Late delivery   \n",
       "2        -247.779999          309.720001  Shipping on time   \n",
       "3          22.860001          304.809998  Advance shipping   \n",
       "4         134.210007          298.250000  Advance shipping   \n",
       "\n",
       "   Late_delivery_risk  Category Id   Category Name Customer City  ...  \\\n",
       "0                   0           73  Sporting Goods        Caguas  ...   \n",
       "1                   1           73  Sporting Goods        Caguas  ...   \n",
       "2                   0           73  Sporting Goods      San Jose  ...   \n",
       "3                   0           73  Sporting Goods   Los Angeles  ...   \n",
       "4                   0           73  Sporting Goods        Caguas  ...   \n",
       "\n",
       "  Order Zipcode Product Card Id Product Category Id  Product Description  \\\n",
       "0           NaN            1360                  73                  NaN   \n",
       "1           NaN            1360                  73                  NaN   \n",
       "2           NaN            1360                  73                  NaN   \n",
       "3           NaN            1360                  73                  NaN   \n",
       "4           NaN            1360                  73                  NaN   \n",
       "\n",
       "                                  Product Image  Product Name Product Price  \\\n",
       "0  http://images.acmesports.sports/Smart+watch   Smart watch         327.75   \n",
       "1  http://images.acmesports.sports/Smart+watch   Smart watch         327.75   \n",
       "2  http://images.acmesports.sports/Smart+watch   Smart watch         327.75   \n",
       "3  http://images.acmesports.sports/Smart+watch   Smart watch         327.75   \n",
       "4  http://images.acmesports.sports/Smart+watch   Smart watch         327.75   \n",
       "\n",
       "  Product Status shipping date (DateOrders)   Shipping Mode  \n",
       "0              0             2/3/2018 22:56  Standard Class  \n",
       "1              0            1/18/2018 12:27  Standard Class  \n",
       "2              0            1/17/2018 12:06  Standard Class  \n",
       "3              0            1/16/2018 11:45  Standard Class  \n",
       "4              0            1/15/2018 11:24  Standard Class  \n",
       "\n",
       "[5 rows x 53 columns]"
      ]
     },
     "execution_count": 7,
     "metadata": {},
     "output_type": "execute_result"
    }
   ],
   "source": [
    "# Our encoding needs to be change, so we change it to 'latin1' encoding to read the CSV file\n",
    "file_path = 'Supply_chain_data/DataCoSupplyChainDataset.csv'  # Adjust file name if necessary\n",
    "data = pd.read_csv(file_path, encoding='latin1')\n",
    "\n",
    "data.head()"
   ]
  },
  {
   "cell_type": "code",
   "execution_count": null,
   "metadata": {
    "colab": {
     "base_uri": "https://localhost:8080/"
    },
    "id": "WKbZLRFs9eZ3",
    "outputId": "f25138b9-b3c3-4163-a893-0a156f7c8f35"
   },
   "outputs": [
    {
     "name": "stdout",
     "output_type": "stream",
     "text": [
      "<class 'pandas.core.frame.DataFrame'>\n",
      "RangeIndex: 180519 entries, 0 to 180518\n",
      "Data columns (total 53 columns):\n",
      " #   Column                         Non-Null Count   Dtype  \n",
      "---  ------                         --------------   -----  \n",
      " 0   Type                           180519 non-null  object \n",
      " 1   Days for shipping (real)       180519 non-null  int64  \n",
      " 2   Days for shipment (scheduled)  180519 non-null  int64  \n",
      " 3   Benefit per order              180519 non-null  float64\n",
      " 4   Sales per customer             180519 non-null  float64\n",
      " 5   Delivery Status                180519 non-null  object \n",
      " 6   Late_delivery_risk             180519 non-null  int64  \n",
      " 7   Category Id                    180519 non-null  int64  \n",
      " 8   Category Name                  180519 non-null  object \n",
      " 9   Customer City                  180519 non-null  object \n",
      " 10  Customer Country               180519 non-null  object \n",
      " 11  Customer Email                 180519 non-null  object \n",
      " 12  Customer Fname                 180519 non-null  object \n",
      " 13  Customer Id                    180519 non-null  int64  \n",
      " 14  Customer Lname                 180511 non-null  object \n",
      " 15  Customer Password              180519 non-null  object \n",
      " 16  Customer Segment               180519 non-null  object \n",
      " 17  Customer State                 180519 non-null  object \n",
      " 18  Customer Street                180519 non-null  object \n",
      " 19  Customer Zipcode               180516 non-null  float64\n",
      " 20  Department Id                  180519 non-null  int64  \n",
      " 21  Department Name                180519 non-null  object \n",
      " 22  Latitude                       180519 non-null  float64\n",
      " 23  Longitude                      180519 non-null  float64\n",
      " 24  Market                         180519 non-null  object \n",
      " 25  Order City                     180519 non-null  object \n",
      " 26  Order Country                  180519 non-null  object \n",
      " 27  Order Customer Id              180519 non-null  int64  \n",
      " 28  order date (DateOrders)        180519 non-null  object \n",
      " 29  Order Id                       180519 non-null  int64  \n",
      " 30  Order Item Cardprod Id         180519 non-null  int64  \n",
      " 31  Order Item Discount            180519 non-null  float64\n",
      " 32  Order Item Discount Rate       180519 non-null  float64\n",
      " 33  Order Item Id                  180519 non-null  int64  \n",
      " 34  Order Item Product Price       180519 non-null  float64\n",
      " 35  Order Item Profit Ratio        180519 non-null  float64\n",
      " 36  Order Item Quantity            180519 non-null  int64  \n",
      " 37  Sales                          180519 non-null  float64\n",
      " 38  Order Item Total               180519 non-null  float64\n",
      " 39  Order Profit Per Order         180519 non-null  float64\n",
      " 40  Order Region                   180519 non-null  object \n",
      " 41  Order State                    180519 non-null  object \n",
      " 42  Order Status                   180519 non-null  object \n",
      " 43  Order Zipcode                  24840 non-null   float64\n",
      " 44  Product Card Id                180519 non-null  int64  \n",
      " 45  Product Category Id            180519 non-null  int64  \n",
      " 46  Product Description            0 non-null       float64\n",
      " 47  Product Image                  180519 non-null  object \n",
      " 48  Product Name                   180519 non-null  object \n",
      " 49  Product Price                  180519 non-null  float64\n",
      " 50  Product Status                 180519 non-null  int64  \n",
      " 51  shipping date (DateOrders)     180519 non-null  object \n",
      " 52  Shipping Mode                  180519 non-null  object \n",
      "dtypes: float64(15), int64(14), object(24)\n",
      "memory usage: 73.0+ MB\n"
     ]
    },
    {
     "data": {
      "text/plain": [
       "Type                                  0\n",
       "Days for shipping (real)              0\n",
       "Days for shipment (scheduled)         0\n",
       "Benefit per order                     0\n",
       "Sales per customer                    0\n",
       "Delivery Status                       0\n",
       "Late_delivery_risk                    0\n",
       "Category Id                           0\n",
       "Category Name                         0\n",
       "Customer City                         0\n",
       "Customer Country                      0\n",
       "Customer Email                        0\n",
       "Customer Fname                        0\n",
       "Customer Id                           0\n",
       "Customer Lname                        8\n",
       "Customer Password                     0\n",
       "Customer Segment                      0\n",
       "Customer State                        0\n",
       "Customer Street                       0\n",
       "Customer Zipcode                      3\n",
       "Department Id                         0\n",
       "Department Name                       0\n",
       "Latitude                              0\n",
       "Longitude                             0\n",
       "Market                                0\n",
       "Order City                            0\n",
       "Order Country                         0\n",
       "Order Customer Id                     0\n",
       "order date (DateOrders)               0\n",
       "Order Id                              0\n",
       "Order Item Cardprod Id                0\n",
       "Order Item Discount                   0\n",
       "Order Item Discount Rate              0\n",
       "Order Item Id                         0\n",
       "Order Item Product Price              0\n",
       "Order Item Profit Ratio               0\n",
       "Order Item Quantity                   0\n",
       "Sales                                 0\n",
       "Order Item Total                      0\n",
       "Order Profit Per Order                0\n",
       "Order Region                          0\n",
       "Order State                           0\n",
       "Order Status                          0\n",
       "Order Zipcode                    155679\n",
       "Product Card Id                       0\n",
       "Product Category Id                   0\n",
       "Product Description              180519\n",
       "Product Image                         0\n",
       "Product Name                          0\n",
       "Product Price                         0\n",
       "Product Status                        0\n",
       "shipping date (DateOrders)            0\n",
       "Shipping Mode                         0\n",
       "dtype: int64"
      ]
     },
     "execution_count": 9,
     "metadata": {},
     "output_type": "execute_result"
    }
   ],
   "source": [
    "data.info()\n",
    "data.describe()\n",
    "data.isnull().sum()"
   ]
  },
  {
   "cell_type": "code",
   "execution_count": null,
   "metadata": {
    "colab": {
     "base_uri": "https://localhost:8080/"
    },
    "id": "PrGBqF6cCO2H",
    "outputId": "f395127b-25d3-4d33-df42-13dea1c4380d"
   },
   "outputs": [
    {
     "name": "stdout",
     "output_type": "stream",
     "text": [
      "Customer Lname              8\n",
      "Customer Zipcode            3\n",
      "Order Zipcode          155679\n",
      "Product Description    180519\n",
      "dtype: int64\n"
     ]
    }
   ],
   "source": [
    "# Checking missing values\n",
    "missing_values = data.isnull().sum()\n",
    "print(missing_values[missing_values > 0])\n",
    "\n",
    "# Drop 'Product Description' as it is completely empty\n",
    "data = data.drop(columns=['Product Description'])\n",
    "\n",
    "# Handle other missing values, unkown instead of null\n",
    "data['Customer Lname'] = data['Customer Lname'].fillna('Unknown')\n",
    "data['Customer Zipcode'] = data['Customer Zipcode'].fillna('Unknown')\n",
    "data['Order Zipcode'] = data['Order Zipcode'].fillna('Unknown')\n"
   ]
  },
  {
   "cell_type": "code",
   "execution_count": 31,
   "metadata": {
    "id": "cUa1N8CsCS0H"
   },
   "outputs": [],
   "source": [
    "# Change fomat of some clumns date columns to datetime\n",
    "data['order date (DateOrders)'] = pd.to_datetime(data['order date (DateOrders)'], format='%m/%d/%Y %H:%M')\n",
    "data['shipping date (DateOrders)'] = pd.to_datetime(data['shipping date (DateOrders)'], format='%m/%d/%Y %H:%M')"
   ]
  },
  {
   "cell_type": "code",
   "execution_count": 33,
   "metadata": {},
   "outputs": [
    {
     "name": "stdout",
     "output_type": "stream",
     "text": [
      "Dataset saved successfully as 'C:/Users/darks/DataCoSupplyChainDataset.csv'\n"
     ]
    }
   ],
   "source": [
    "file_path = 'C:/Users/darks/DataCoSupplyChainDataset.csv'\n",
    "data.to_csv(file_path, index=False)\n",
    "print(f\"Dataset saved successfully as '{file_path}'\")"
   ]
  },
  {
   "cell_type": "code",
   "execution_count": null,
   "metadata": {
    "colab": {
     "base_uri": "https://localhost:8080/"
    },
    "id": "FhGAXSwBCUPs",
    "outputId": "0bc5bc3e-85da-46d7-a670-2c30e93edc88"
   },
   "outputs": [
    {
     "name": "stdout",
     "output_type": "stream",
     "text": [
      "       Days for shipping (real)  Days for shipment (scheduled)  \\\n",
      "count             180519.000000                  180519.000000   \n",
      "mean                   3.497654                       2.931847   \n",
      "min                    0.000000                       0.000000   \n",
      "25%                    2.000000                       2.000000   \n",
      "50%                    3.000000                       4.000000   \n",
      "75%                    5.000000                       4.000000   \n",
      "max                    6.000000                       4.000000   \n",
      "std                    1.623722                       1.374449   \n",
      "\n",
      "       Benefit per order  Sales per customer  Late_delivery_risk  \\\n",
      "count      180519.000000       180519.000000       180519.000000   \n",
      "mean           21.974989          183.107609            0.548291   \n",
      "min         -4274.979980            7.490000            0.000000   \n",
      "25%             7.000000          104.379997            0.000000   \n",
      "50%            31.520000          163.990005            1.000000   \n",
      "75%            64.800003          247.399994            1.000000   \n",
      "max           911.799988         1939.989990            1.000000   \n",
      "std           104.433526          120.043670            0.497664   \n",
      "\n",
      "         Category Id    Customer Id  Department Id       Latitude  \\\n",
      "count  180519.000000  180519.000000  180519.000000  180519.000000   \n",
      "mean       31.851451    6691.379495       5.443460      29.719955   \n",
      "min         2.000000       1.000000       2.000000     -33.937553   \n",
      "25%        18.000000    3258.500000       4.000000      18.265432   \n",
      "50%        29.000000    6457.000000       5.000000      33.144863   \n",
      "75%        45.000000    9779.000000       7.000000      39.279617   \n",
      "max        76.000000   20757.000000      12.000000      48.781933   \n",
      "std        15.640064    4162.918106       1.629246       9.813646   \n",
      "\n",
      "           Longitude  ...  Order Item Profit Ratio Order Item Quantity  \\\n",
      "count  180519.000000  ...            180519.000000       180519.000000   \n",
      "mean      -84.915675  ...                 0.120647            2.127638   \n",
      "min      -158.025986  ...                -2.750000            1.000000   \n",
      "25%       -98.446312  ...                 0.080000            1.000000   \n",
      "50%       -76.847908  ...                 0.270000            1.000000   \n",
      "75%       -66.370583  ...                 0.360000            3.000000   \n",
      "max       115.263077  ...                 0.500000            5.000000   \n",
      "std        21.433241  ...                 0.466796            1.453451   \n",
      "\n",
      "               Sales  Order Item Total  Order Profit Per Order  \\\n",
      "count  180519.000000     180519.000000           180519.000000   \n",
      "mean      203.772096        183.107609               21.974989   \n",
      "min         9.990000          7.490000            -4274.979980   \n",
      "25%       119.980003        104.379997                7.000000   \n",
      "50%       199.919998        163.990005               31.520000   \n",
      "75%       299.950012        247.399994               64.800003   \n",
      "max      1999.989990       1939.989990              911.799988   \n",
      "std       132.273077        120.043670              104.433526   \n",
      "\n",
      "       Product Card Id  Product Category Id  Product Price  Product Status  \\\n",
      "count    180519.000000        180519.000000  180519.000000        180519.0   \n",
      "mean        692.509764            31.851451     141.232550             0.0   \n",
      "min          19.000000             2.000000       9.990000             0.0   \n",
      "25%         403.000000            18.000000      50.000000             0.0   \n",
      "50%         627.000000            29.000000      59.990002             0.0   \n",
      "75%        1004.000000            45.000000     199.990005             0.0   \n",
      "max        1363.000000            76.000000    1999.989990             0.0   \n",
      "std         336.446807            15.640064     139.732492             0.0   \n",
      "\n",
      "          shipping date (DateOrders)  \n",
      "count                         180519  \n",
      "mean   2016-06-16 05:45:23.202433024  \n",
      "min              2015-01-03 00:00:00  \n",
      "25%              2015-09-25 06:59:00  \n",
      "50%              2016-06-15 08:32:00  \n",
      "75%              2017-03-04 21:29:00  \n",
      "max              2018-02-06 22:14:00  \n",
      "std                              NaN  \n",
      "\n",
      "[8 rows x 28 columns]\n"
     ]
    }
   ],
   "source": [
    "# Summary statistics\n",
    "print(data.describe())"
   ]
  },
  {
   "cell_type": "code",
   "execution_count": null,
   "metadata": {
    "colab": {
     "base_uri": "https://localhost:8080/"
    },
    "id": "ko3LeC-XC9yA",
    "outputId": "013c697d-40e6-46a1-d97d-54264766e3eb"
   },
   "outputs": [
    {
     "name": "stdout",
     "output_type": "stream",
     "text": [
      "<class 'pandas.core.frame.DataFrame'>\n",
      "RangeIndex: 180519 entries, 0 to 180518\n",
      "Data columns (total 52 columns):\n",
      " #   Column                         Non-Null Count   Dtype         \n",
      "---  ------                         --------------   -----         \n",
      " 0   Type                           180519 non-null  object        \n",
      " 1   Days for shipping (real)       180519 non-null  int64         \n",
      " 2   Days for shipment (scheduled)  180519 non-null  int64         \n",
      " 3   Benefit per order              180519 non-null  float64       \n",
      " 4   Sales per customer             180519 non-null  float64       \n",
      " 5   Delivery Status                180519 non-null  object        \n",
      " 6   Late_delivery_risk             180519 non-null  int64         \n",
      " 7   Category Id                    180519 non-null  int64         \n",
      " 8   Category Name                  180519 non-null  object        \n",
      " 9   Customer City                  180519 non-null  object        \n",
      " 10  Customer Country               180519 non-null  object        \n",
      " 11  Customer Email                 180519 non-null  object        \n",
      " 12  Customer Fname                 180519 non-null  object        \n",
      " 13  Customer Id                    180519 non-null  int64         \n",
      " 14  Customer Lname                 180519 non-null  object        \n",
      " 15  Customer Password              180519 non-null  object        \n",
      " 16  Customer Segment               180519 non-null  object        \n",
      " 17  Customer State                 180519 non-null  object        \n",
      " 18  Customer Street                180519 non-null  object        \n",
      " 19  Customer Zipcode               180519 non-null  object        \n",
      " 20  Department Id                  180519 non-null  int64         \n",
      " 21  Department Name                180519 non-null  object        \n",
      " 22  Latitude                       180519 non-null  float64       \n",
      " 23  Longitude                      180519 non-null  float64       \n",
      " 24  Market                         180519 non-null  object        \n",
      " 25  Order City                     180519 non-null  object        \n",
      " 26  Order Country                  180519 non-null  object        \n",
      " 27  Order Customer Id              180519 non-null  int64         \n",
      " 28  order date (DateOrders)        180519 non-null  datetime64[ns]\n",
      " 29  Order Id                       180519 non-null  int64         \n",
      " 30  Order Item Cardprod Id         180519 non-null  int64         \n",
      " 31  Order Item Discount            180519 non-null  float64       \n",
      " 32  Order Item Discount Rate       180519 non-null  float64       \n",
      " 33  Order Item Id                  180519 non-null  int64         \n",
      " 34  Order Item Product Price       180519 non-null  float64       \n",
      " 35  Order Item Profit Ratio        180519 non-null  float64       \n",
      " 36  Order Item Quantity            180519 non-null  int64         \n",
      " 37  Sales                          180519 non-null  float64       \n",
      " 38  Order Item Total               180519 non-null  float64       \n",
      " 39  Order Profit Per Order         180519 non-null  float64       \n",
      " 40  Order Region                   180519 non-null  object        \n",
      " 41  Order State                    180519 non-null  object        \n",
      " 42  Order Status                   180519 non-null  object        \n",
      " 43  Order Zipcode                  180519 non-null  object        \n",
      " 44  Product Card Id                180519 non-null  int64         \n",
      " 45  Product Category Id            180519 non-null  int64         \n",
      " 46  Product Image                  180519 non-null  object        \n",
      " 47  Product Name                   180519 non-null  object        \n",
      " 48  Product Price                  180519 non-null  float64       \n",
      " 49  Product Status                 180519 non-null  int64         \n",
      " 50  shipping date (DateOrders)     180519 non-null  datetime64[ns]\n",
      " 51  Shipping Mode                  180519 non-null  object        \n",
      "dtypes: datetime64[ns](2), float64(12), int64(14), object(24)\n",
      "memory usage: 71.6+ MB\n"
     ]
    },
    {
     "data": {
      "text/plain": [
       "Type                             0\n",
       "Days for shipping (real)         0\n",
       "Days for shipment (scheduled)    0\n",
       "Benefit per order                0\n",
       "Sales per customer               0\n",
       "Delivery Status                  0\n",
       "Late_delivery_risk               0\n",
       "Category Id                      0\n",
       "Category Name                    0\n",
       "Customer City                    0\n",
       "Customer Country                 0\n",
       "Customer Email                   0\n",
       "Customer Fname                   0\n",
       "Customer Id                      0\n",
       "Customer Lname                   0\n",
       "Customer Password                0\n",
       "Customer Segment                 0\n",
       "Customer State                   0\n",
       "Customer Street                  0\n",
       "Customer Zipcode                 0\n",
       "Department Id                    0\n",
       "Department Name                  0\n",
       "Latitude                         0\n",
       "Longitude                        0\n",
       "Market                           0\n",
       "Order City                       0\n",
       "Order Country                    0\n",
       "Order Customer Id                0\n",
       "order date (DateOrders)          0\n",
       "Order Id                         0\n",
       "Order Item Cardprod Id           0\n",
       "Order Item Discount              0\n",
       "Order Item Discount Rate         0\n",
       "Order Item Id                    0\n",
       "Order Item Product Price         0\n",
       "Order Item Profit Ratio          0\n",
       "Order Item Quantity              0\n",
       "Sales                            0\n",
       "Order Item Total                 0\n",
       "Order Profit Per Order           0\n",
       "Order Region                     0\n",
       "Order State                      0\n",
       "Order Status                     0\n",
       "Order Zipcode                    0\n",
       "Product Card Id                  0\n",
       "Product Category Id              0\n",
       "Product Image                    0\n",
       "Product Name                     0\n",
       "Product Price                    0\n",
       "Product Status                   0\n",
       "shipping date (DateOrders)       0\n",
       "Shipping Mode                    0\n",
       "dtype: int64"
      ]
     },
     "execution_count": 13,
     "metadata": {},
     "output_type": "execute_result"
    }
   ],
   "source": [
    "data.info()\n",
    "data.describe()\n",
    "data.isnull().sum()"
   ]
  },
  {
   "cell_type": "code",
   "execution_count": null,
   "metadata": {
    "colab": {
     "base_uri": "https://localhost:8080/",
     "height": 564
    },
    "id": "Uxr4se6hCUbq",
    "outputId": "83b0aaac-20e4-4a29-c0e5-0b05f1ffb1e5"
   },
   "outputs": [
    {
     "data": {
      "image/png": "[encoded data removed]",
      "text/plain": [
       "<Figure size 1000x600 with 1 Axes>"
      ]
     },
     "metadata": {},
     "output_type": "display_data"
    }
   ],
   "source": [
    "import matplotlib.pyplot as plt\n",
    "import seaborn as sns\n",
    "\n",
    "# Distribution of Sales\n",
    "plt.figure(figsize=(10, 6))\n",
    "sns.histplot(data['Sales'], bins=30, kde=True)\n",
    "plt.title('Distribution of Sales')\n",
    "plt.xlabel('Sales')\n",
    "plt.ylabel('Frequency')\n",
    "plt.show()\n"
   ]
  },
  {
   "cell_type": "code",
   "execution_count": null,
   "metadata": {
    "colab": {
     "base_uri": "https://localhost:8080/",
     "height": 564
    },
    "id": "g0xE1R2XCUi3",
    "outputId": "3826bb15-b122-4da9-e4a4-0755b1dcd079"
   },
   "outputs": [
    {
     "data": {
      "image/png": "[encoded data removed]",
      "text/plain": [
       "<Figure size 1000x600 with 1 Axes>"
      ]
     },
     "metadata": {},
     "output_type": "display_data"
    }
   ],
   "source": [
    "# Scatter plot between Sales and Benefit per order\n",
    "plt.figure(figsize=(10, 6))\n",
    "sns.scatterplot(x='Sales', y='Benefit per order', data=data)\n",
    "plt.title('Sales vs Benefit per Order')\n",
    "plt.xlabel('Sales')\n",
    "plt.ylabel('Benefit per Order')\n",
    "plt.show()\n"
   ]
  },
  {
   "cell_type": "code",
   "execution_count": null,
   "metadata": {
    "colab": {
     "base_uri": "https://localhost:8080/",
     "height": 718
    },
    "id": "_57TXO5QCUoJ",
    "outputId": "f28dcaac-d4b5-4795-d33c-8fda54d9bbd7"
   },
   "outputs": [
    {
     "data": {
      "image/png": "[encoded data removed]",
      "text/plain": [
       "<Figure size 1200x800 with 1 Axes>"
      ]
     },
     "metadata": {},
     "output_type": "display_data"
    }
   ],
   "source": [
    "# Count plot of Late Delivery Risk by Shipping Mode\n",
    "plt.figure(figsize=(12, 8))\n",
    "sns.countplot(x='Late_delivery_risk', hue='Shipping Mode', data=data)\n",
    "plt.title('Late Delivery Risk by Shipping Mode')\n",
    "plt.xlabel('Late Delivery Risk')\n",
    "plt.ylabel('Count')\n",
    "plt.legend(title='Shipping Mode')\n",
    "plt.show()\n"
   ]
  },
  {
   "cell_type": "markdown",
   "metadata": {
    "id": "a9yXjIziIklH"
   },
   "source": [
    " want to have anothere column, by names of Delivered Date, whenever the delivery status is shipping on time, it needs to be not null and the date should be based on shipping mode"
   ]
  },
  {
   "cell_type": "code",
   "execution_count": null,
   "metadata": {
    "colab": {
     "base_uri": "https://localhost:8080/"
    },
    "id": "R0cDkB5WGWim",
    "outputId": "020c5451-d847-4649-b752-2e4853c290f5"
   },
   "outputs": [
    {
     "name": "stdout",
     "output_type": "stream",
     "text": [
      "Delivery Status\n",
      "Late delivery        98977\n",
      "Advance shipping     41592\n",
      "Shipping on time     32196\n",
      "Shipping canceled     7754\n",
      "Name: count, dtype: int64\n"
     ]
    }
   ],
   "source": [
    "print(data['Delivery Status'].value_counts())\n"
   ]
  },
  {
   "cell_type": "code",
   "execution_count": null,
   "metadata": {
    "colab": {
     "base_uri": "https://localhost:8080/"
    },
    "id": "NrNjU-vrIYqS",
    "outputId": "95c7c66e-603b-4658-8fac-ad47b3de339a"
   },
   "outputs": [
    {
     "name": "stdout",
     "output_type": "stream",
     "text": [
      "            Type  Days for shipping (real)  Days for shipment (scheduled)  \\\n",
      "0          DEBIT                         3                              4   \n",
      "1       TRANSFER                         5                              4   \n",
      "2           CASH                         4                              4   \n",
      "3          DEBIT                         3                              4   \n",
      "4        PAYMENT                         2                              4   \n",
      "...          ...                       ...                            ...   \n",
      "180514      CASH                         4                              4   \n",
      "180515     DEBIT                         3                              2   \n",
      "180516  TRANSFER                         5                              4   \n",
      "180517   PAYMENT                         3                              4   \n",
      "180518   PAYMENT                         4                              4   \n",
      "\n",
      "        Benefit per order  Sales per customer   Delivery Status  \\\n",
      "0               91.250000          314.640015  Advance shipping   \n",
      "1             -249.089996          311.359985     Late delivery   \n",
      "2             -247.779999          309.720001  Shipping on time   \n",
      "3               22.860001          304.809998  Advance shipping   \n",
      "4              134.210007          298.250000  Advance shipping   \n",
      "...                   ...                 ...               ...   \n",
      "180514          40.000000          399.980011  Shipping on time   \n",
      "180515        -613.770019          395.980011     Late delivery   \n",
      "180516         141.110001          391.980011     Late delivery   \n",
      "180517         186.229996          387.980011  Advance shipping   \n",
      "180518         168.949997          383.980011  Shipping on time   \n",
      "\n",
      "        Late_delivery_risk  Category Id   Category Name Customer City  ...  \\\n",
      "0                        0           73  Sporting Goods        Caguas  ...   \n",
      "1                        1           73  Sporting Goods        Caguas  ...   \n",
      "2                        0           73  Sporting Goods      San Jose  ...   \n",
      "3                        0           73  Sporting Goods   Los Angeles  ...   \n",
      "4                        0           73  Sporting Goods        Caguas  ...   \n",
      "...                    ...          ...             ...           ...  ...   \n",
      "180514                   0           45         Fishing      Brooklyn  ...   \n",
      "180515                   1           45         Fishing   Bakersfield  ...   \n",
      "180516                   1           45         Fishing       Bristol  ...   \n",
      "180517                   0           45         Fishing        Caguas  ...   \n",
      "180518                   0           45         Fishing        Caguas  ...   \n",
      "\n",
      "       Order Zipcode Product Card Id Product Category Id  \\\n",
      "0            Unknown            1360                  73   \n",
      "1            Unknown            1360                  73   \n",
      "2            Unknown            1360                  73   \n",
      "3            Unknown            1360                  73   \n",
      "4            Unknown            1360                  73   \n",
      "...              ...             ...                 ...   \n",
      "180514       Unknown            1004                  45   \n",
      "180515       Unknown            1004                  45   \n",
      "180516       Unknown            1004                  45   \n",
      "180517       Unknown            1004                  45   \n",
      "180518       Unknown            1004                  45   \n",
      "\n",
      "                                            Product Image  \\\n",
      "0            http://images.acmesports.sports/Smart+watch    \n",
      "1            http://images.acmesports.sports/Smart+watch    \n",
      "2            http://images.acmesports.sports/Smart+watch    \n",
      "3            http://images.acmesports.sports/Smart+watch    \n",
      "4            http://images.acmesports.sports/Smart+watch    \n",
      "...                                                   ...   \n",
      "180514  http://images.acmesports.sports/Field+%26+Stre...   \n",
      "180515  http://images.acmesports.sports/Field+%26+Stre...   \n",
      "180516  http://images.acmesports.sports/Field+%26+Stre...   \n",
      "180517  http://images.acmesports.sports/Field+%26+Stre...   \n",
      "180518  http://images.acmesports.sports/Field+%26+Stre...   \n",
      "\n",
      "                                     Product Name Product Price  \\\n",
      "0                                    Smart watch     327.750000   \n",
      "1                                    Smart watch     327.750000   \n",
      "2                                    Smart watch     327.750000   \n",
      "3                                    Smart watch     327.750000   \n",
      "4                                    Smart watch     327.750000   \n",
      "...                                           ...           ...   \n",
      "180514  Field & Stream Sportsman 16 Gun Fire Safe    399.980011   \n",
      "180515  Field & Stream Sportsman 16 Gun Fire Safe    399.980011   \n",
      "180516  Field & Stream Sportsman 16 Gun Fire Safe    399.980011   \n",
      "180517  Field & Stream Sportsman 16 Gun Fire Safe    399.980011   \n",
      "180518  Field & Stream Sportsman 16 Gun Fire Safe    399.980011   \n",
      "\n",
      "       Product Status shipping date (DateOrders)   Shipping Mode  \\\n",
      "0                   0        2018-02-03 22:56:00  Standard Class   \n",
      "1                   0        2018-01-18 12:27:00  Standard Class   \n",
      "2                   0        2018-01-17 12:06:00  Standard Class   \n",
      "3                   0        2018-01-16 11:45:00  Standard Class   \n",
      "4                   0        2018-01-15 11:24:00  Standard Class   \n",
      "...               ...                        ...             ...   \n",
      "180514              0        2016-01-20 03:40:00  Standard Class   \n",
      "180515              0        2016-01-19 01:34:00    Second Class   \n",
      "180516              0        2016-01-20 21:00:00  Standard Class   \n",
      "180517              0        2016-01-18 20:18:00  Standard Class   \n",
      "180518              0        2016-01-19 18:54:00  Standard Class   \n",
      "\n",
      "            Delivered Date  \n",
      "0                      NaT  \n",
      "1                      NaT  \n",
      "2      2018-01-25 12:06:00  \n",
      "3                      NaT  \n",
      "4                      NaT  \n",
      "...                    ...  \n",
      "180514 2016-01-29 03:40:00  \n",
      "180515                 NaT  \n",
      "180516                 NaT  \n",
      "180517                 NaT  \n",
      "180518 2016-01-20 18:54:00  \n",
      "\n",
      "[180519 rows x 53 columns]\n"
     ]
    }
   ],
   "source": [
    "def generate_delivered_date(row):\n",
    "    shipping_date = row['shipping date (DateOrders)']\n",
    "    shipping_mode = row['Shipping Mode']\n",
    "\n",
    "    # Initialize delivered date as NaN\n",
    "    delivered_date = np.nan\n",
    "\n",
    "    # Set delivered date only if delivery status is \"Shipping on time\"\n",
    "    if row['Delivery Status'] == 'Shipping on time':\n",
    "        if shipping_mode == 'Standard Class':\n",
    "            delivered_date = shipping_date + pd.Timedelta(days=np.random.randint(1, 10))\n",
    "        elif shipping_mode == 'Second Class':\n",
    "            delivered_date = shipping_date + pd.Timedelta(days=np.random.randint(1, 5))\n",
    "        elif shipping_mode == 'Same Day':\n",
    "            delivered_date = shipping_date + pd.Timedelta(hours=np.random.randint(1, 12))\n",
    "        elif shipping_mode == 'First Class':  # Assuming First Class is also a mode\n",
    "            delivered_date = shipping_date + pd.Timedelta(days=np.random.randint(1, 3))\n",
    "\n",
    "    return delivered_date\n",
    "\n",
    "# Apply the function row-wise to generate delivered dates\n",
    "data['Delivered Date'] = data.apply(generate_delivered_date, axis=1)\n",
    "\n",
    "# Display the updated DataFrame\n",
    "print(data)"
   ]
  },
  {
   "cell_type": "code",
   "execution_count": null,
   "metadata": {
    "colab": {
     "base_uri": "https://localhost:8080/"
    },
    "id": "sN4LCpYWJDcQ",
    "outputId": "7fb4ff2e-4792-45ae-ba9f-4059ceb69c51"
   },
   "outputs": [
    {
     "name": "stdout",
     "output_type": "stream",
     "text": [
      "Delivered Date\n",
      "2016-09-24 05:36:00    5\n",
      "2017-07-30 11:39:00    4\n",
      "2015-08-22 11:57:00    4\n",
      "2017-04-16 22:08:00    4\n",
      "2015-02-28 09:02:00    4\n",
      "                      ..\n",
      "2017-01-25 08:46:00    1\n",
      "2016-07-31 01:50:00    1\n",
      "2016-07-28 01:50:00    1\n",
      "2016-05-24 00:00:00    1\n",
      "2016-01-29 03:40:00    1\n",
      "Name: count, Length: 27038, dtype: int64\n"
     ]
    }
   ],
   "source": [
    "print(data['Delivered Date'].value_counts())"
   ]
  },
  {
   "cell_type": "code",
   "execution_count": null,
   "metadata": {
    "colab": {
     "base_uri": "https://localhost:8080/"
    },
    "id": "vf01QeexN56B",
    "outputId": "8bb60007-6da1-4a25-faa3-a2a707d79cc7"
   },
   "outputs": [
    {
     "name": "stdout",
     "output_type": "stream",
     "text": [
      "Accuracy: 0.98\n",
      "                   precision    recall  f1-score   support\n",
      "\n",
      " Advance shipping       0.96      1.00      0.98      8282\n",
      "    Late delivery       1.00      1.00      1.00     19797\n",
      "Shipping canceled       1.00      0.58      0.74      1558\n",
      " Shipping on time       0.95      1.00      0.98      6467\n",
      "\n",
      "         accuracy                           0.98     36104\n",
      "        macro avg       0.98      0.90      0.92     36104\n",
      "     weighted avg       0.98      0.98      0.98     36104\n",
      "\n"
     ]
    }
   ],
   "source": [
    "import pandas as pd\n",
    "from sklearn.model_selection import train_test_split\n",
    "from sklearn.tree import DecisionTreeClassifier\n",
    "from sklearn.metrics import accuracy_score, classification_report\n",
    "\n",
    "# Assuming 'data' is my DataFrame with the required columns\n",
    "# Feature selection\n",
    "X = data[['Days for shipping (real)', 'Days for shipment (scheduled)', 'Late_delivery_risk']]\n",
    "y = data['Delivery Status']\n",
    "\n",
    "# Split data into training and testing sets\n",
    "X_train, X_test, y_train, y_test = train_test_split(X, y, test_size=0.2, random_state=42)\n",
    "\n",
    "# Initialize decision tree classifier\n",
    "clf = DecisionTreeClassifier(random_state=42)\n",
    "\n",
    "# Train the model\n",
    "clf.fit(X_train, y_train)\n",
    "\n",
    "# Predict on test data\n",
    "y_pred = clf.predict(X_test)\n",
    "\n",
    "# Evaluate model performance\n",
    "accuracy = accuracy_score(y_test, y_pred)\n",
    "print(f\"Accuracy: {accuracy:.2f}\")\n",
    "\n",
    "# Classification report\n",
    "print(classification_report(y_test, y_pred))\n"
   ]
  },
  {
   "cell_type": "markdown",
   "metadata": {
    "id": "1r_HGU01OmNI"
   },
   "source": [
    "Accuracy: Overall accuracy of the model is 0.98, which means it correctly predicts 98% of the cases across all classes. This is a high accuracy rate, indicating the model performs well in general.\n",
    "Advance shipping:\n",
    "\n",
    "Precision: 0.96\n",
    "When the model predicts \"Advance shipping\", it is correct 96% of the time.\n",
    "Recall: 1.00\n",
    "The model identifies 100% of actual \"Advance shipping\" instances.\n",
    "F1-Score: 0.98\n",
    "The harmonic mean of precision and recall is 0.98, indicating high overall performance for this class.\n",
    "Late delivery:\n",
    "\n",
    "Precision: 1.00\n",
    "Precision is perfect (1.00), meaning all predictions for \"Late delivery\" are correct.\n",
    "Recall: 1.00\n",
    "The model correctly identifies all instances of actual \"Late delivery\".\n",
    "F1-Score: 1.00\n",
    "F1-Score is perfect (1.00), showing excellent performance for this class.\n",
    "Shipping canceled:\n",
    "\n",
    "Precision: 1.00\n",
    "The model is very precise (1.00) when predicting \"Shipping canceled\".\n",
    "Recall: 0.58\n",
    "However, recall is 0.58, indicating that it misses 42% of actual \"Shipping canceled\" instances.\n",
    "F1-Score: 0.74\n",
    "The F1-Score is 0.74, which is good but lower compared to other classes, suggesting room for improvement in recall.\n",
    "Shipping on time:\n",
    "\n",
    "Precision: 0.95\n",
    "Precision for \"Shipping on time\" is 0.95, meaning 95% of the predictions for this class are correct.\n",
    "Recall: 1.00\n",
    "The model identifies all actual \"Shipping on time\" instances.\n",
    "F1-Score: 0.98\n",
    "The F1-Score is 0.98, indicating high performance similar to \"Advance shipping\"."
   ]
  },
  {
   "cell_type": "code",
   "execution_count": null,
   "metadata": {
    "colab": {
     "base_uri": "https://localhost:8080/"
    },
    "id": "XgQe_JgjO4zg",
    "outputId": "9971d84f-b12c-4d79-e263-117c95db38c4"
   },
   "outputs": [
    {
     "name": "stdout",
     "output_type": "stream",
     "text": [
      "Mean Squared Error: 17341.34\n"
     ]
    }
   ],
   "source": [
    "from sklearn.linear_model import LinearRegression\n",
    "from sklearn.metrics import mean_squared_error\n",
    "\n",
    "# Feature selection\n",
    "X = data[['Days for shipping (real)', 'Days for shipment (scheduled)', 'Late_delivery_risk']]\n",
    "y = data['Sales']\n",
    "\n",
    "# Split data into training and testing sets\n",
    "X_train, X_test, y_train, y_test = train_test_split(X, y, test_size=0.2, random_state=42)\n",
    "\n",
    "# Initialize linear regression model\n",
    "model = LinearRegression()\n",
    "\n",
    "# Train the model\n",
    "model.fit(X_train, y_train)\n",
    "\n",
    "# Predict on test data\n",
    "y_pred = model.predict(X_test)\n",
    "\n",
    "# Evaluate model performance\n",
    "mse = mean_squared_error(y_test, y_pred)\n",
    "print(f\"Mean Squared Error: {mse:.2f}\")\n"
   ]
  },
  {
   "cell_type": "markdown",
   "metadata": {
    "id": "zZLJF-dTPmwX"
   },
   "source": [
    "the Mean Squared Error of 17341.34 provides a quantitative measure of the average squared difference between predicted and actual values in my regression model. Lower values indicate better predictive accuracy, while higher values suggest more substantial prediction errors."
   ]
  },
  {
   "cell_type": "code",
   "execution_count": null,
   "metadata": {
    "colab": {
     "base_uri": "https://localhost:8080/"
    },
    "id": "-cnoHYo7N6hC",
    "outputId": "50a4c9ea-df13-48a7-d153-b4888000512c"
   },
   "outputs": [
    {
     "name": "stdout",
     "output_type": "stream",
     "text": [
      "Accuracy: 0.97\n",
      "              precision    recall  f1-score   support\n",
      "\n",
      "           0       1.00      0.96      0.98     29637\n",
      "           1       0.84      1.00      0.91      6467\n",
      "\n",
      "    accuracy                           0.97     36104\n",
      "   macro avg       0.92      0.98      0.95     36104\n",
      "weighted avg       0.97      0.97      0.97     36104\n",
      "\n"
     ]
    }
   ],
   "source": [
    "from sklearn.linear_model import LogisticRegression\n",
    "\n",
    "X = data[['Days for shipping (real)', 'Days for shipment (scheduled)', 'Late_delivery_risk']]\n",
    "y = (data['Delivery Status'] == 'Shipping on time').astype(int)  # Convert to binary label\n",
    "\n",
    "X_train, X_test, y_train, y_test = train_test_split(X, y, test_size=0.2, random_state=42)\n",
    "\n",
    "\n",
    "log_reg = LogisticRegression()\n",
    "\n",
    "log_reg.fit(X_train, y_train)\n",
    "\n",
    "\n",
    "y_pred = log_reg.predict(X_test)\n",
    "\n",
    "\n",
    "accuracy = accuracy_score(y_test, y_pred)\n",
    "print(f\"Accuracy: {accuracy:.2f}\")\n",
    "\n",
    "\n",
    "print(classification_report(y_test, y_pred))\n"
   ]
  },
  {
   "cell_type": "markdown",
   "metadata": {
    "id": "9Lx05cfiPtjw"
   },
   "source": [
    "Almost same as Decision Tree"
   ]
  },
  {
   "cell_type": "markdown",
   "metadata": {
    "id": "pb_T4DYqRQ3W"
   },
   "source": [
    "Let's Make 4 tables out of dataset, to start working in mysql\n",
    "*   Customer table\n",
    "*   Orders table\n",
    "*   Sales table\n",
    "*   Product table"
   ]
  },
  {
   "cell_type": "code",
   "execution_count": 20,
   "metadata": {},
   "outputs": [],
   "source": [
    "import pandas as pd\n",
    "path ='C:/Users/darks/DataCoSupplyChainDataset.csv'\n",
    "data = pd.read_csv(path, encoding='latin1')"
   ]
  },
  {
   "cell_type": "code",
   "execution_count": 21,
   "metadata": {
    "id": "XvIUMDSNN66L"
   },
   "outputs": [],
   "source": [
    "customer_columns = ['Customer Id', 'Customer Fname', 'Customer Lname', 'Customer Email',\n",
    "                    'Customer Password', 'Customer Segment', 'Customer City', 'Customer State',\n",
    "                    'Customer Country', 'Customer Street', 'Customer Zipcode', 'Latitude', 'Longitude']\n",
    "customers = data[customer_columns].drop_duplicates().reset_index(drop=True)"
   ]
  },
  {
   "cell_type": "code",
   "execution_count": 22,
   "metadata": {
    "id": "L_6-6vpARbD7"
   },
   "outputs": [],
   "source": [
    "orders_columns = ['Order Id', 'Order Customer Id', 'order date (DateOrders)', 'Order Region',\n",
    "                  'Order City', 'Order State', 'Order Country', 'Order Zipcode', 'Order Status',\n",
    "                  'Shipping Mode', 'Days for shipping (real)', 'Days for shipment (scheduled)',\n",
    "                  'Late_delivery_risk', 'shipping date (DateOrders)']\n",
    "orders = data[orders_columns].drop_duplicates().reset_index(drop=True)\n"
   ]
  },
  {
   "cell_type": "code",
   "execution_count": 23,
   "metadata": {
    "id": "daBcGcGdRoME"
   },
   "outputs": [],
   "source": [
    "sales_columns = ['Order Id', 'Order Item Id', 'Order Item Cardprod Id', 'Product Card Id',\n",
    "                 'Product Category Id', 'Product Name', 'Product Price',\n",
    "                 'Order Item Quantity', 'Sales per customer', 'Order Item Product Price',\n",
    "                 'Order Item Total', 'Order Item Discount', 'Order Item Discount Rate',\n",
    "                 'Order Item Profit Ratio', 'Order Profit Per Order']\n",
    "sales = data[sales_columns].drop_duplicates().reset_index(drop=True)\n"
   ]
  },
  {
   "cell_type": "code",
   "execution_count": 24,
   "metadata": {
    "id": "PlYvT0BIRpx0"
   },
   "outputs": [],
   "source": [
    "product_columns = ['Product Card Id', 'Category Id', 'Category Name', 'Product Image']\n",
    "products = data[product_columns].drop_duplicates().reset_index(drop=True)\n"
   ]
  },
  {
   "cell_type": "code",
   "execution_count": 19,
   "metadata": {},
   "outputs": [
    {
     "ename": "AttributeError",
     "evalue": "'str' object has no attribute 'to_csv'",
     "output_type": "error",
     "traceback": [
      "\u001b[1;31m---------------------------------------------------------------------------\u001b[0m",
      "\u001b[1;31mAttributeError\u001b[0m                            Traceback (most recent call last)",
      "Cell \u001b[1;32mIn[19], line 1\u001b[0m\n\u001b[1;32m----> 1\u001b[0m customers\u001b[38;5;241m.\u001b[39mto_csv(\u001b[38;5;124m'\u001b[39m\u001b[38;5;124mcustomers.csv\u001b[39m\u001b[38;5;124m'\u001b[39m, index\u001b[38;5;241m=\u001b[39m\u001b[38;5;28;01mFalse\u001b[39;00m)\n\u001b[0;32m      2\u001b[0m orders\u001b[38;5;241m.\u001b[39mto_csv(\u001b[38;5;124m'\u001b[39m\u001b[38;5;124morders.csv\u001b[39m\u001b[38;5;124m'\u001b[39m, index\u001b[38;5;241m=\u001b[39m\u001b[38;5;28;01mFalse\u001b[39;00m)\n\u001b[0;32m      3\u001b[0m sales\u001b[38;5;241m.\u001b[39mto_csv(\u001b[38;5;124m'\u001b[39m\u001b[38;5;124msales.csv\u001b[39m\u001b[38;5;124m'\u001b[39m, index\u001b[38;5;241m=\u001b[39m\u001b[38;5;28;01mFalse\u001b[39;00m)\n",
      "\u001b[1;31mAttributeError\u001b[0m: 'str' object has no attribute 'to_csv'"
     ]
    }
   ],
   "source": [
    "customers.to_csv('customers.csv', index=False)\n",
    "orders.to_csv('orders.csv', index=False)\n",
    "sales.to_csv('sales.csv', index=False)\n",
    "products.to_csv('products.csv', index=False)"
   ]
  },
  {
   "cell_type": "markdown",
   "metadata": {
    "id": "LUf9YcIG6zK_"
   },
   "source": [
    "*Now*, we want to export our .csv files"
   ]
  },
  {
   "cell_type": "code",
   "execution_count": 25,
   "metadata": {
    "id": "D5GSf9_gRs9Y"
   },
   "outputs": [],
   "source": [
    "customers.to_csv('C:/Users/darks/customers.csv', index=False)\n",
    "orders.to_csv('C:/Users/darks/orders.csv', index=False)\n",
    "sales.to_csv('C:/Users/darks/sales.csv', index=False)\n",
    "products.to_csv('C:/Users/darks/products.csv', index=False)"
   ]
  },
  {
   "cell_type": "markdown",
   "metadata": {
    "id": "VJNvBU2WHpUv"
   },
   "source": []
  },
  {
   "cell_type": "markdown",
   "metadata": {
    "id": "oLt4fUCXSgH4"
   },
   "source": [
    "From this point, I had 3 solution for adding my tables into sql dataserver, use cloud base sql servers like google cloud sql or etc, or I download my dataset and input them manually into sql dataserver OR I load these .CSV files into jupyter then run it locally. I choosed the third way."
   ]
  },
  {
   "cell_type": "code",
   "execution_count": 34,
   "metadata": {},
   "outputs": [
    {
     "name": "stdout",
     "output_type": "stream",
     "text": [
      "Connection to MySQL DB successful\n",
      "Data has been imported into the respective tables successfully\n"
     ]
    }
   ],
   "source": [
    "from sqlalchemy import create_engine\n",
    "import pandas as pd\n",
    "\n",
    "# Database connection details\n",
    "user = 'root'\n",
    "password = 'Ali1375'\n",
    "host = 'localhost'\n",
    "port = 3306\n",
    "database = 'Supply_Chain_project'\n",
    "\n",
    "# File paths\n",
    "customers_file = 'C:/Users/darks/customers.csv'\n",
    "orders_file = 'C:/Users/darks/orders.csv'\n",
    "sales_file = 'C:/Users/darks/sales.csv'\n",
    "products_file = 'C:/Users/darks/products.csv'\n",
    "\n",
    "# Table names\n",
    "customers_table = 'customers'\n",
    "orders_table = 'orders'\n",
    "sales_table = 'sales'\n",
    "products_table = 'products'\n",
    "\n",
    "# Column names\n",
    "customers_columns = ['Customer Id', 'Customer Fname', 'Customer Lname', 'Customer Email',\n",
    "                     'Customer Segment', 'Customer City', 'Customer State',\n",
    "                     'Customer Country', 'Customer Street', 'Customer Zipcode', 'Latitude', 'Longitude']\n",
    "orders_columns = ['Order Id', 'Order Customer Id', 'order date (DateOrders)', 'Order Region',\n",
    "                  'Order City', 'Order State', 'Order Country', 'Order Zipcode', 'Order Status',\n",
    "                  'Shipping Mode', 'Days for shipping (real)', 'Days for shipment (scheduled)',\n",
    "                  'Late_delivery_risk', 'shipping date (DateOrders)']\n",
    "sales_columns = ['Order Id', 'Order Item Id', 'Order Item Cardprod Id', 'Product Card Id',\n",
    "                 'Product Category Id', 'Product Name', 'Product Price',\n",
    "                 'Order Item Quantity', 'Sales per customer', 'Order Item Product Price',\n",
    "                 'Order Item Total', 'Order Item Discount', 'Order Item Discount Rate',\n",
    "                 'Order Item Profit Ratio', 'Order Profit Per Order']\n",
    "products_columns = ['Product Card Id', 'Category Id', 'Category Name', 'Product Image']\n",
    "\n",
    "# Creating the connection engine\n",
    "try:\n",
    "    db = create_engine(f'mysql+pymysql://{user}:{password}@{host}:{port}/{database}')\n",
    "    print(\"Connection to MySQL DB successful\")\n",
    "except Exception as e:\n",
    "    print(f\"Error connecting to MySQL DB: {e}\")\n",
    "\n",
    "# Function to load CSV and clean data, and convert date format\n",
    "def load_and_clean_data(file_path, columns):\n",
    "    df = pd.read_csv(file_path, usecols=columns).drop_duplicates().reset_index(drop=True)\n",
    "    \n",
    "    # Convert date columns to MySQL-compatible format\n",
    "    for col in ['order date (DateOrders)', 'shipping date (DateOrders)']:\n",
    "        if col in df.columns:\n",
    "            df[col] = pd.to_datetime(df[col]).dt.strftime('%Y-%m-%d %H:%M:%S')\n",
    "    \n",
    "    return df\n",
    "\n",
    "# Loading and cleaning data\n",
    "try:\n",
    "    customers = load_and_clean_data(customers_file, customers_columns)\n",
    "    orders = load_and_clean_data(orders_file, orders_columns)\n",
    "    sales = load_and_clean_data(sales_file, sales_columns)\n",
    "    products = load_and_clean_data(products_file, products_columns)\n",
    "\n",
    "    # Inserting data into the MySQL tables\n",
    "    customers.to_sql(customers_table, con=db, if_exists='replace', index=False)\n",
    "    orders.to_sql(orders_table, con=db, if_exists='replace', index=False)\n",
    "    sales.to_sql(sales_table, con=db, if_exists='replace', index=False)\n",
    "    products.to_sql(products_table, con=db, if_exists='replace', index=False)\n",
    "\n",
    "    print(\"Data has been imported into the respective tables successfully\")\n",
    "\n",
    "except FileNotFoundError as e:\n",
    "    print(f'File not found: {e}')\n",
    "except Exception as e:\n",
    "    print(f'Error importing data into MySQL DB: {e}')\n",
    "finally:\n",
    "    if 'db' in locals():\n",
    "        db.dispose()  # Close the database connection\n"
   ]
  }
 ],
 "metadata": {
  "colab": {
   "provenance": []
  },
  "kernelspec": {
   "display_name": "Python 3 (ipykernel)",
   "language": "python",
   "name": "python3"
  },
  "language_info": {
   "codemirror_mode": {
    "name": "ipython",
    "version": 3
   },
   "file_extension": ".py",
   "mimetype": "text/x-python",
   "name": "python",
   "nbconvert_exporter": "python",
   "pygments_lexer": "ipython3",
   "version": "3.11.5"
  }
 },
 "nbformat": 4,
 "nbformat_minor": 1
}
